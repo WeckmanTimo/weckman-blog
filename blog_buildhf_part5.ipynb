{
 "cells": [
  {
   "cell_type": "markdown",
   "id": "08d9db4d-6ae8-4e1c-a4ea-0aedcbc32504",
   "metadata": {},
   "source": [
    "### Self-consistent field (SCF)\n",
    "\n",
    "Now that we have all the necessary components at hand, we'll construct a full self-consistent cycle. We start by creating the initial guess for the density matrix using the core Hamiltonian."
   ]
  },
  {
   "cell_type": "code",
   "execution_count": 2,
   "id": "72d62ecb-9a0d-41be-a4d5-7017779ca7a0",
   "metadata": {},
   "outputs": [],
   "source": [
    "from pyscf import gto, scf, mp\n",
    "from ase.units import Bohr\n",
    "import numpy as np\n",
    "\n",
    "m = gto.Mole()\n",
    "m.build(atom=f\"H 0 0 0; H {1.4*Bohr} 0 0\", basis=\"3-21g\", spin=0, charge=0)\n",
    "Tmat = m.intor(\"int1e_kin\") # Integral matrix for kinetic energy\n",
    "Smat = m.intor(\"int1e_ovlp\") # Integral matrix for overlap integrals\n",
    "Vmat = m.intor(\"int1e_nuc\") # Integral matrix for electron-nucleus integrals \n",
    "Vee = m.intor(\"int2e\") # Integral matrix for electron-electron integrals\n",
    "nelec = m.nelectron # Number of electrons\n",
    "\n",
    "# Symmetric orthogonalization\n",
    "s, U = np.linalg.eigh(Smat)\n",
    "X = U / s**0.5\n",
    "\n",
    "# Construct the core Hamiltonian\n",
    "Hcore = Tmat + Vmat\n",
    "Hcore_ = np.dot(X.T, Hcore.dot(X)) # Transform from AO to MO basis\n",
    "mo_eigs, mo_vecs = np.linalg.eigh(Hcore_) # Diagonalize the Hcore in MO basis\n",
    "\n",
    "Cvec = np.dot(X, mo_vecs) # Transform the MO coefficients from MO to AO basis\n",
    "Dmat = np.zeros((Smat.shape)) # Initialize the density matrix\n",
    "for i in range(nelec//2): # Compute the density matrix in the AO basis. Since we use restricted HF, all spins are paired and only nelec/2 orbitals are considered\n",
    "    Dmat += np.einsum('i,j->ij', Cvec[:, i], Cvec[:, i].T)"
   ]
  },
  {
   "cell_type": "markdown",
   "id": "1449e08d-cda1-4f56-a4c4-24a67f8366fb",
   "metadata": {},
   "source": [
    "We'll define the cycle a loop. Each cycle we'll construct the Fockian matrix using the density matrix from the previous cycle in AO basis (or, the initial guess for the first iteration). We then transform the Fockian into the MO basis and diagonalize it. This will result in new set of molecular orbitals and orbital energies. We'll store the old density matrix and compare the matrix norm between the new and the old density matrices. If the difference is sufficiently small, we'll determine that the SCF cycle has converged. Real quantum chemistry codes use multiple indicators to check for convergence (density, energy, gradient etc.). We should also set a maximum number of SCF iterations so that we do not end up in an infinite loop."
   ]
  },
  {
   "cell_type": "code",
   "execution_count": 3,
   "id": "19f25785-eb64-4581-9e05-01ecfa6b612f",
   "metadata": {},
   "outputs": [
    {
     "name": "stdout",
     "output_type": "stream",
     "text": [
      " Iteration    Total Energy    Dmat Difference\n",
      "         1     -1.78732579          1.533e-01\n",
      "         2     -1.83611232          2.198e-02\n",
      "         3     -1.83719589          3.175e-03\n",
      "         4     -1.83721860          4.576e-04\n",
      "         5     -1.83721907          6.595e-05\n",
      "         6     -1.83721908          9.502e-06\n",
      "         7     -1.83721908          1.369e-06\n",
      "         8     -1.83721908          1.973e-07\n"
     ]
    }
   ],
   "source": [
    "iterstep = 0\n",
    "maxiter = 50\n",
    "conv_tol = 1e-6\n",
    "print(f\"{'Iteration':>10} {'Total Energy':>15} {'Dmat Difference':>18}\")\n",
    "while iterstep < maxiter:\n",
    "    Jmat = np.einsum('kl, ijkl->ij', Dmat, Vee, optimize=True) # Compute the Coulomb integrals\n",
    "    Kmat = np.einsum('kl, ilkj->ij', Dmat, Vee, optimize=True) # Compute the exchange integrals\n",
    "        \n",
    "    Fmat = Hcore + 2*Jmat - Kmat # Construct the full Fock matrix\n",
    "    e_elec = np.trace(np.dot(2*Hcore + 2*Jmat - Kmat, Dmat))\n",
    "    # Transform to orthonormal MO basis\n",
    "    Fmat_ = np.dot(X.T, Fmat.dot(X))\n",
    "    Dmat_old = Dmat.copy() # Store old density matrix\n",
    "        \n",
    "    mo_eigs, mo_vecs = np.linalg.eigh(Fmat_)\n",
    "    Cvec = np.dot(X, mo_vecs)\n",
    "\n",
    "    Dmat *= 0\n",
    "    for i in range(nelec//2): # RHF\n",
    "        Dmat += np.einsum('i,j->ij', Cvec[:, i], Cvec[:, i].T)\n",
    "    conv = np.linalg.norm(Dmat-Dmat_old)\n",
    "    iterstep += 1\n",
    "    print(f\"{iterstep:>10} {e_elec:>15.8f} {conv:>18.3e}\")\n",
    "    if conv < conv_tol:\n",
    "        break"
   ]
  },
  {
   "cell_type": "markdown",
   "id": "fceaf2ab-9d3d-4b2a-ad09-29c1e7aae882",
   "metadata": {},
   "source": [
    "Yay! Our little SCF program converged! We see a monotonic convergence in both energy and density. For consistency, let's compare our results with that of PySCF using the same initial guess."
   ]
  },
  {
   "cell_type": "code",
   "execution_count": 4,
   "id": "6d000ccc-c13b-4ff4-8bab-5273fec0244d",
   "metadata": {},
   "outputs": [
    {
     "name": "stdout",
     "output_type": "stream",
     "text": [
      "\n",
      "\n",
      "******** <class 'pyscf.scf.hf.RHF'> ********\n",
      "method = RHF\n",
      "initial guess = hcore\n",
      "damping factor = 0\n",
      "level_shift factor = 0\n",
      "DIIS = <class 'pyscf.scf.diis.CDIIS'>\n",
      "diis_start_cycle = 1\n",
      "diis_space = 8\n",
      "SCF conv_tol = 1e-09\n",
      "SCF conv_tol_grad = None\n",
      "SCF max_cycles = 50\n",
      "direct_scf = True\n",
      "direct_scf_tol = 1e-13\n",
      "chkfile to save SCF result = /home/weckman/Python/tmpy0g9hpmy\n",
      "max_memory 4000 MB (current use 147 MB)\n",
      "Set gradient conv threshold to 3.16228e-05\n",
      "Initial guess from hcore.\n",
      "  HOMO = -1.26830366856786  LUMO = -0.604330213847378\n",
      "  mo_energy =\n",
      "[-1.26830367 -0.60433021 -0.06295639  0.36737513]\n",
      "E1 = -2.5366073371357185  E_coul = 0.7492815459509367\n",
      "init E= -1.07304007641832\n",
      "cond(S) = 25.587367648833535\n",
      "    CPU time for initialize scf      0.17 sec, wall time      0.01 sec\n",
      "  HOMO = -0.54010068175068  LUMO = 0.298013288147918\n",
      "  mo_energy =\n",
      "[-0.54010068  0.29801329  0.94830472  1.59943342]\n",
      "E1 = -2.5024674666487083  E_coul = 0.6663551424066831\n",
      "cycle= 1 E= -1.12182660947557  delta_E= -0.0488  |g|= 0.0535  |ddm|= 0.307\n",
      "    CPU time for cycle= 1      0.18 sec, wall time      0.01 sec\n",
      "  HOMO = -0.58535160037433  LUMO = 0.269204248113845\n",
      "  mo_energy =\n",
      "[-0.5853516   0.26920425  0.92602425  1.53616318]\n",
      "E1 = -2.4916577348810245  E_coul = 0.6544618487283264\n",
      "cycle= 2 E= -1.12291017138624  delta_E= -0.00108  |g|= 0.00775  |ddm|= 0.044\n",
      "    CPU time for cycle= 2      0.09 sec, wall time      0.00 sec\n",
      "  HOMO = -0.592400237626332  LUMO = 0.263940249396656\n",
      "  mo_energy =\n",
      "[-0.59240024  0.26394025  0.92076588  1.52460816]\n",
      "E1 = -2.4896838051581964  E_coul = 0.6524647267822082\n",
      "cycle= 3 E= -1.12293336360953  delta_E= -2.32e-05  |g|= 5.58e-06  |ddm|= 0.00742\n",
      "    CPU time for cycle= 3      0.13 sec, wall time      0.01 sec\n",
      "Linear dependence found in DIIS error vectors.\n",
      "  HOMO = -0.592386369836684  LUMO = 0.263939628018153\n",
      "  mo_energy =\n",
      "[-0.59238637  0.26393963  0.9207486   1.52460366]\n",
      "E1 = -2.4896846419179184  E_coul = 0.6524655635319991\n",
      "cycle= 4 E= -1.12293336361946  delta_E= -9.93e-12  |g|= 2.33e-06  |ddm|= 3.11e-06\n",
      "    CPU time for cycle= 4      0.11 sec, wall time      0.01 sec\n",
      "  HOMO = -0.592376757427854  LUMO = 0.263938954049894\n",
      "  mo_energy =\n",
      "[-0.59237676  0.26393895  0.92073602  1.52459995]\n",
      "E1 = -2.489685153804124  E_coul = 0.65246607541616\n",
      "Extra cycle  E= -1.1229333636215  delta_E= -2.04e-12  |g|= 3.35e-07  |ddm|= 1.9e-06\n",
      "    CPU time for scf_cycle      0.76 sec, wall time      0.04 sec\n",
      "    CPU time for SCF      0.78 sec, wall time      0.05 sec\n",
      "converged SCF energy = -1.1229333636215\n"
     ]
    },
    {
     "data": {
      "text/plain": [
       "<pyscf.scf.hf.RHF at 0x7f8aa860ab10>"
      ]
     },
     "execution_count": 4,
     "metadata": {},
     "output_type": "execute_result"
    }
   ],
   "source": [
    "hf = m.RHF()\n",
    "hf.verbose = 5\n",
    "hf.max_cycle = 50\n",
    "hf.init_guess = 'hcore'\n",
    "hf.run()"
   ]
  },
  {
   "cell_type": "markdown",
   "id": "00fdfde1-5525-4ec1-b1a8-52e5660befcc",
   "metadata": {},
   "source": [
    "The difference between the PySCF and our results is of course the nuclear repulsion energy, often included as part of the electronic energy. If we include this to our total energy, our results agree nicely."
   ]
  },
  {
   "cell_type": "code",
   "execution_count": 5,
   "id": "277e75dd-8dd7-4f19-99ad-b7da68cc9cb0",
   "metadata": {},
   "outputs": [
    {
     "name": "stdout",
     "output_type": "stream",
     "text": [
      "-1.1229333636214585\n"
     ]
    }
   ],
   "source": [
    "print(e_elec + m.get_enuc())"
   ]
  },
  {
   "cell_type": "code",
   "execution_count": null,
   "id": "8ca1bdda-a13a-4553-a1fe-4e01be213089",
   "metadata": {},
   "outputs": [],
   "source": []
  }
 ],
 "metadata": {
  "kernelspec": {
   "display_name": "Python 3 (ipykernel)",
   "language": "python",
   "name": "python3"
  },
  "language_info": {
   "codemirror_mode": {
    "name": "ipython",
    "version": 3
   },
   "file_extension": ".py",
   "mimetype": "text/x-python",
   "name": "python",
   "nbconvert_exporter": "python",
   "pygments_lexer": "ipython3",
   "version": "3.7.12"
  }
 },
 "nbformat": 4,
 "nbformat_minor": 5
}
