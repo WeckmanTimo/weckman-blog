{
 "cells": [
  {
   "cell_type": "markdown",
   "id": "ebbe0882-470c-4d71-a906-075938bba3ee",
   "metadata": {},
   "source": [
    "# Dispersion coefficients from TDDFT\n",
    "\n",
    "Dispersion interaction is a weak attractive interaction that binds even neutral, noble gas atoms to each other. Dispersion interaction sometimes mistakenly called the van der Waals (vdW) interaction, which is not correct. VdW-interactions are a combination of intermolecular interactions, where permanent molecular dipoles induce and interact with other molecular dipoles. Despite being the weakest form of van der Waals forces, dispersion interactions significantly influence the structure, stability, and properties of molecular systems, including biological molecules like proteins and DNA. \n",
    "\n",
    "Dispersion interaction is caused by fluctuations in the electron densities in an atom or a molecule. The fluctuations cause intantaneous electric fields that are felt by ther nearby atoms or molecules, which respond to the electric field by adjusting their own electron densities accordingly. These instantaneous dipole moments then attract each other, resulting in the dispersion interaction. \n",
    "\n",
    "While other van der Waals force are well described by the computational chemistry workhorse, the density functional theory (DFT), the dispersion interaction is not. Traditional DFT methods struggle to accurately predict dispersion interaction, because the electron-electron interaction is only treated approximately, without directly accounting for the correlated motion of electrons. Instead, the dispersion is usually included in the DFT calculations as a separate correction. Using the Rayleigh--Schrödinger perturbation theory, one can show that the potential energy between two weakly interacting systems is proportional to the inverse sixth power of the distance between them, leading to the well-known $$V(r) \\propto -\\frac{C_6}{r^6}$$ where $C_6$ is the dispersion coefficient and $r$ is the intermolecular distance.\n",
    "\n",
    "Here, we will have a look at how the dispersion coefficient $C_6$ can be computed using time-dependent density functional theory (TD-DFT) by PySCF. We will also explore the basis set dependence of the results and how the commonly employed Tamm-Dancoff approximation (TDA) affects the results."
   ]
  },
  {
   "cell_type": "markdown",
   "id": "36d5fc75-fc91-4599-b6bf-c40c20e4dc08",
   "metadata": {},
   "source": [
    "### Oscillator strengths\n",
    "\n",
    "\n",
    "Oscillator strength describes the probability for transition between quantum states when a photon is absorbed (or emitted),\n",
    "$$f_n = \\frac{2}{3} \\omega_{n0}^A\\left|\\left<{\\phi_0^A|\\mathbf{r}|\\phi_n^A}\\right>\\right|^2$$\n",
    "where $f_n$ is the oscillator strength for a transition from the ground state to the $n$th excited state, $\\omega_n$ is the corresponding transition energy and $\\left|\\left<{\\phi_0^A|\\mathbf{r}|\\phi_n^A}\\right>\\right|^2$ is the squared magnitude for the transition dipole moment vector of the excitation. \n",
    "\n",
    "In fact, one can use Rayleigh--Schrödinger perturbation theory to derive an expression for the dispersion interaction between two systems $A$ and $B$ separated by a large distance $R$ with no overlap:\n",
    "$$\n",
    "U_\\text{disp} = -\\frac{C_6}{R^6}\n",
    "$$\n",
    "\\\\\n",
    "$$\n",
    "C^{AB}_6 = \\sum_{n\\neq0}\\sum_{m\\neq0}\\frac{\\left|\\left<{\\phi_0^A|\\mathbf{r}|\\phi_n^A}\\right>\\right|^2\\left|\\left<{\\phi_0^B|\\mathbf{r}|\\phi_m^B}\\right>\\right|^2}{\\omega_{n0}^A + \\omega_{m0}^B} = \\frac{3}{2}\\sum_{n\\neq0}\\sum_{m\\neq0}\\frac{f_{n0}^A f_{m0}^B}{\\omega_{n0}^A\\omega_{m0}^B(\\omega_{n0}^A + \\omega_{m0}^B)},\n",
    "$$\n",
    "where $\\omega_{m0} = E_m-E_0$.\n",
    "\n",
    "Here we will use the last sum to compute the dispersion coefficient $C_6$ for a methane molecule."
   ]
  },
  {
   "cell_type": "markdown",
   "id": "c36705e0-c8b6-4ecb-a08e-68656d67b978",
   "metadata": {},
   "source": [
    "### PySCF\n",
    "\n",
    "We will use PySCF to compute the excitation spectra and oscillator strenghts using time-dependent density functional theory (TD-DFT). First we'll compute the ground state energy of a methane molecule using $\\omega$B97X exchange--correlation functional and a diffuse triple-$\\zeta$ basis set def2-TZVPD."
   ]
  },
  {
   "cell_type": "code",
   "execution_count": 55,
   "id": "31f00ab2-6c6d-4455-b689-df686135eef3",
   "metadata": {},
   "outputs": [
    {
     "data": {
      "text/plain": [
       "<pyscf.dft.rks.RKS at 0x7f38c01f5790>"
      ]
     },
     "execution_count": 55,
     "metadata": {},
     "output_type": "execute_result"
    }
   ],
   "source": [
    "from pyscf import gto, scf, tdscf, dft, tddft\n",
    "import matplotlib.pyplot as plt\n",
    "import numpy as np\n",
    "\n",
    "# Define molecule and basis set\n",
    "mol = gto.Mole()\n",
    "mol.atom = 'H 0.5349075 0.1628792 0.9466881; \\\n",
    "            H 0.2074921 0.8335188 -0.6864069; \\\n",
    "            H 0.3383696 -0.9421607 -0.4547893; \\\n",
    "            H -1.0808570 -0.0543245 0.1943354; \\\n",
    "            C -0.0000122 -0.0000128 -0.0000272'\n",
    "mol.basis = 'def2-tzvpd'\n",
    "mol.build()\n",
    "\n",
    "# Run DFT calculation\n",
    "mf = scf.RKS(mol)\n",
    "mf.xc = 'wB97x'\n",
    "mf.verbose = 0\n",
    "mf.run()"
   ]
  },
  {
   "cell_type": "markdown",
   "id": "4d9383cd-45b1-4953-bad5-bc23fc36d4a8",
   "metadata": {},
   "source": [
    "Next, we'll compute the full excitation spectra using the TDDFT module of PySCF. We can define how many excitations are included by the \\emph{nstates} variable. The maximum is determined by the dimension of our basis set."
   ]
  },
  {
   "cell_type": "code",
   "execution_count": 56,
   "id": "b680a279-011c-4b93-9835-9047817e134d",
   "metadata": {},
   "outputs": [
    {
     "data": {
      "text/plain": [
       "<pyscf.tdscf.rks.TDDFT at 0x7f38c00a4210>"
      ]
     },
     "execution_count": 56,
     "metadata": {},
     "output_type": "execute_result"
    }
   ],
   "source": [
    "# Run TDDFT calculation\n",
    "td = tddft.TDDFT(mf)\n",
    "td.nstates = 450  # Number of excitations included\n",
    "td.verbose = 0\n",
    "td.run()"
   ]
  },
  {
   "cell_type": "markdown",
   "id": "98cf22a4-a850-495c-9f4e-809346c8cc48",
   "metadata": {},
   "source": [
    "Let's look at how the Thomas--Reiche--Kuhn sum rule is reproduced by our spectra. The TRK sum rule states that the sum of the oscillator strenghts should equal the number of particles in the system, i.e. $$\\sum_n f_n = N.$$"
   ]
  },
  {
   "cell_type": "code",
   "execution_count": 57,
   "id": "87b10c50-0dc9-46bf-807f-2ec91341989b",
   "metadata": {},
   "outputs": [
    {
     "name": "stdout",
     "output_type": "stream",
     "text": [
      "Thomas-Reiche-Kuhn sum rule:  8.847\n",
      "Number of electrons: 10\n"
     ]
    }
   ],
   "source": [
    "# Extract excitation energies (in a.u.) and oscillator strengths\n",
    "excitation_energies = np.array(td.e)\n",
    "oscillator_strengths = np.array(td.oscillator_strength(gauge='length', order=0))\n",
    "\n",
    "print(f'Thomas-Reiche-Kuhn sum rule: {oscillator_strengths.sum(): .3f}')\n",
    "print(f'Number of electrons: {np.sum(mol.nelec)}')"
   ]
  },
  {
   "cell_type": "markdown",
   "id": "d3948640-6632-42d8-9e9b-3aa8d08e5db2",
   "metadata": {},
   "source": [
    "The sum rule and the number of electrons done exactly match. We'll come back to this a bit later. However, using the sum for the dispersion coefficients, presented above, we can compute the dispersion coefficient for the methane molecule."
   ]
  },
  {
   "cell_type": "code",
   "execution_count": 58,
   "id": "622e9508-395f-4fab-aea0-f1411a45d620",
   "metadata": {},
   "outputs": [
    {
     "name": "stdout",
     "output_type": "stream",
     "text": [
      "Dispersion coefficient:  126.347\n"
     ]
    }
   ],
   "source": [
    "N = M = len(excitation_energies)\n",
    "\n",
    "C6 = 0\n",
    "for n in range(N):\n",
    "    wn = excitation_energies[n]\n",
    "    for m in range(M):\n",
    "        wm = excitation_energies[m]\n",
    "        C6 += oscillator_strengths[n]*oscillator_strengths[m] / (wn*wm * (wn+wm)) * 3./2.\n",
    "print(f'Dispersion coefficient: {C6: .3f}')"
   ]
  },
  {
   "cell_type": "markdown",
   "id": "c6a43865-dc46-4fc2-a663-f51366f02923",
   "metadata": {},
   "source": [
    "The computed dispersion coefficient is excellent good agreement with the experimental value of 129.6 measured using dipole oscillator strength distribution (see https://doi.org/10.1080/00268978000103781).\n",
    "\n",
    "An alternative scheme for computing the dispersion coefficient between system $A$ and $B$ is by the Casimir--Polder equation, $$C_6^{AB} = \\frac{3}{\\pi} \\int_0^\\infty \\alpha^A(i\\omega)\\alpha^B(i\\omega)d\\omega$$\n",
    "where $\\alpha^{A/B}(\\omega)$ is the dynamic polarizability of system $A/B$.\n",
    "\n",
    "We can construct the dynamic polarizability from the oscillator strengths, using\n",
    "$$\\alpha^A(\\omega) = \\sum \\frac{f_n^A}{\\omega_n^2-\\omega^n}.$$\n",
    "(For more details, see the discussion by Langhoff and Karplus in *The Pade Approximant in Theoretical Physics*.)"
   ]
  },
  {
   "cell_type": "code",
   "execution_count": 24,
   "id": "68f9a197-51bf-43c1-a675-19c140f34f9c",
   "metadata": {},
   "outputs": [
    {
     "name": "stdout",
     "output_type": "stream",
     "text": [
      "126.34656702984459\n"
     ]
    }
   ],
   "source": [
    "# Construct dynamic polarizability\n",
    "frequencies = np.linspace(0, 30, 300)\n",
    "alpha = np.zeros(frequencies.shape)\n",
    "\n",
    "for k in range(len(excitation_energies)):\n",
    "    alpha += oscillator_strengths[k] / (excitation_energies[k]**2 + frequencies**2) # The imaginary frequency is accounted for in the sum\n",
    "\n",
    "C6_alpha = np.trapz(alpha*alpha*3/np.pi, frequencies) # Integrate over the frequencies\n",
    "print(C6_alpha)"
   ]
  },
  {
   "cell_type": "markdown",
   "id": "b35b7a8c-dd33-4633-9335-ad128e191781",
   "metadata": {},
   "source": [
    "### Tamm-Dancoff approximation\n",
    "\n",
    "In TDDFT, the full excitation spectra considered contains both excitations and de-excitations. However, the excitations and de-excitations are somewhat redundant and de-excitations are often ignored to ease the computational burden. This is called the Tamm-Dancoff approximation. TDA is often regarded as a reasonable approximation that, in some instances, provides stabilization to the calculation and even improves the computed excitation spectra.\n",
    "\n",
    "Let's switch the full TDDFT to TDA and see what we get."
   ]
  },
  {
   "cell_type": "code",
   "execution_count": 50,
   "id": "d4ff5610-3937-4969-a0cb-9634ffcdb838",
   "metadata": {},
   "outputs": [
    {
     "name": "stdout",
     "output_type": "stream",
     "text": [
      "Thomas-Reiche-Kuhn sum rule for TDA:  11.374\n",
      "Number of electrons: 10\n",
      "Dispersion coefficient:  107.405\n"
     ]
    }
   ],
   "source": [
    "# Run TDA calculation\n",
    "td = tddft.TDA(mf)\n",
    "td.nstates = 350  # Number of excitations included\n",
    "td.verbose = 0\n",
    "td.run()\n",
    "\n",
    "excitation_energies_tda = np.array(td.e)\n",
    "oscillator_strengths_tda = np.array(td.oscillator_strength(gauge='length', order=0))\n",
    "print(f'Thomas-Reiche-Kuhn sum rule for TDA: {oscillator_strengths_tda.sum(): .3f}')\n",
    "print(f'Number of electrons: {np.sum(mol.nelec)}')\n",
    "\n",
    "N = M = len(excitation_energies)\n",
    "\n",
    "C6 = 0\n",
    "for n in range(N):\n",
    "    wn = excitation_energies_tda[n]\n",
    "    for m in range(M):\n",
    "        wm = excitation_energies_tda[m]\n",
    "        C6 += oscillator_strengths_tda[n]*oscillator_strengths_tda[m] / (wn*wm * (wn+wm)) * 3./2.\n",
    "print(f'Dispersion coefficient: {C6: .3f}')"
   ]
  },
  {
   "cell_type": "markdown",
   "id": "8f78638d-2479-4616-873d-bbfd90f4933a",
   "metadata": {},
   "source": [
    "The dispersion coefficient is well off the mark! Also the TRK sum is larger than the number of electrons in the system. Why is this?\n",
    "\n",
    "If we compare the excitation spectra and the oscillator strengths for full TDDFT and with TDA, we see that while the excitation spectra from both methods agree with each other, the oscillator strenghts do not. This discrepancy results in a poor accuracy for the dispersion coefficient (and dynamic polarizability)."
   ]
  },
  {
   "cell_type": "code",
   "execution_count": 45,
   "id": "90564105-5212-436a-9a41-7f3bd8d9be86",
   "metadata": {},
   "outputs": [
    {
     "data": {
      "image/png": "[encoded data removed]",
      "text/plain": [
       "<Figure size 640x480 with 2 Axes>"
      ]
     },
     "metadata": {},
     "output_type": "display_data"
    }
   ],
   "source": [
    "import matplotlib.pyplot as plt\n",
    "\n",
    "fig, (ax1, ax2) = plt.subplots(1, 2)\n",
    "fig.tight_layout()\n",
    "ax1.plot(excitation_energies, excitation_energies_tda, 'o')\n",
    "ax1.set_title('Excitation energies')\n",
    "ax1.set_xlabel(\"Full TDDFT\")\n",
    "ax1.set_ylabel(\"TDA\")\n",
    "ax2.plot(oscillator_strengths, oscillator_strengths_tda, 'o')\n",
    "ax2.set_title('Oscillator strengths')\n",
    "ax2.set_xlabel(\"Full TDDFT\")\n",
    "ax2.set_ylabel(\"TDA\")\n",
    "plt.show()"
   ]
  },
  {
   "cell_type": "markdown",
   "id": "6e3e68e2-549d-4177-94eb-693a37f61b11",
   "metadata": {},
   "source": [
    "### Basis set dependence\n",
    "\n",
    "A diffuse basis set is in general a must when computing excited states, especially in post-Hartree-Fock theory, must also in TDDFT. If we switch to a smaller basis set (such as def2-TZVP or even def2-SVP), our estimate for the dispersion coefficient becomes significantly much poorer. Interestingly, the TRK sum rule is more closer to $N$. "
   ]
  },
  {
   "cell_type": "code",
   "execution_count": null,
   "id": "2ebd0cbf-0863-4c56-9b60-6e77056a4202",
   "metadata": {},
   "outputs": [],
   "source": []
  }
 ],
 "metadata": {
  "kernelspec": {
   "display_name": "Python 3 (ipykernel)",
   "language": "python",
   "name": "python3"
  },
  "language_info": {
   "codemirror_mode": {
    "name": "ipython",
    "version": 3
   },
   "file_extension": ".py",
   "mimetype": "text/x-python",
   "name": "python",
   "nbconvert_exporter": "python",
   "pygments_lexer": "ipython3",
   "version": "3.7.12"
  }
 },
 "nbformat": 4,
 "nbformat_minor": 5
}
