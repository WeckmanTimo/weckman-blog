{
 "cells": [
  {
   "cell_type": "markdown",
   "id": "e6e806d7-3a19-44e9-a4b7-4a947b517499",
   "metadata": {},
   "source": [
    "### Continuum solvation model\n",
    "\n",
    "The dielectric continuum solvent models facilitate the modelling of chemical reactions is condensed phases. The dielectric continuum models the effect of the solvent and can be used to compute the solvation free energy of a species. The solvation free energy $\\Delta G_\\text{solv}$ can be added to the accurate gas-phase free energy values to obtain the corresponding solution-phase free energy:\n",
    "$$G_\\text{soln} = G_\\text{gas} + \\Delta G_\\text{solv} + RT \\ln \\left( \\frac{RT}{P} \\right)$$\n",
    "where the last term converts the gas-phase standard state to teh solution-phase standard state of 1 M. \n",
    "\n",
    "However, there are a few points one needs to address when the continuum solvent models are applied (see https://doi.org/10.1021/jp107136j). The solvation free energy can be computed from the difference between the energies obtained in gas-phase and in the dielectric continuum solvent,\n",
    "$$\\Delta G_\\text{solv} = (E_\\text{soln} + G_\\text{nes}) - E_\\text{gas}$$\n",
    "where $E_\\text{soln}$ and $ E_\\text{gas}$ are the electronic energies of the solute with and without the continuum solvent field and $G_\\text{nes}$ refers to the sum of any nonelectrostatic contributions to the solvation free energy, such as cavitation and dispersion-repulsion interactions. \n",
    "The main point here is that the **solvation free energy** is obtained from the difference in **electronic energies**, **not** a difference in free energies computed in solution- and gas-phases. *This is because of the way the continuum models are parametrized and from the fact that the ideal gas models used to compute the free energies only apply in the gas-phase.*\n",
    "\n",
    "So, in order to calculate all the components of our thermodynamic cycle we will:\n",
    "1. Optimize all the species in the upper-rung of the thermodynamic cycle in gas-phase\n",
    "2. Compute the total energy and all the free energy terms for these species\n",
    "3. Optimize all the species in the lower-rung of the thermodynamic cycle with the dielectric continuum solvent model\n",
    "\n",
    "We will then compute the free energy for the reaction based on the gas-phase free energies,\n",
    "$$\\Delta G_\\text{bind, g} = \\sum_i \\nu_i G_\\text{i} - \\sum_a \\nu_a G_a$$\n",
    "where $i$ and $a$ correspond to product and reactant species, respectively.\n",
    "\n",
    "The solvation energies are then computed using the electronic energies of the species (not including the enthalpy and entropy-terms used in gas-phase calculation). \n",
    "\n",
    "![title](scheme1.png)\n",
    "\n",
    "### Hybrid solvation model\n",
    "\n",
    "Often, especially for ionic systems, it is preferred to employ a hybrid solvation model, that is to use both explicit and implicit solvent together. This will signicantly improve the accuracy of our solvation energies.\n",
    "\n",
    "Let's proceed step-by-step using the PySCF and calculate the solvation energy of copper(II)-ion."
   ]
  },
  {
   "cell_type": "markdown",
   "id": "da4866d0-77f4-465d-affd-1452438250c9",
   "metadata": {},
   "source": [
    "### Implicit solvent only\n",
    "\n",
    "We'll define a simple system consisting of the copper-ion in gas-phase and with implicit solvent only."
   ]
  },
  {
   "cell_type": "code",
   "execution_count": 76,
   "id": "e3cc45d2-2c6a-4622-8f6b-265e82a771ca",
   "metadata": {
    "tags": []
   },
   "outputs": [
    {
     "name": "stdout",
     "output_type": "stream",
     "text": [
      "Total energy in vacuum: -1638.931 Eh\n",
      "Total energy in solvent: -1639.475 Eh\n",
      "Solvation free energy: -341.003 kcal/mol\n"
     ]
    }
   ],
   "source": [
    "from pyscf import gto, scf, solvent\n",
    "\n",
    "mol = gto.Mole()\n",
    "mol.atom = 'Cu 0 0 0' \n",
    "mol.basis = 'def2-svp' \n",
    "mol.charge = 2 \n",
    "mol.spin = 1\n",
    "mol.build()\n",
    "\n",
    "mf = scf.UKS(mol)\n",
    "mf.xc = 'PBE'\n",
    "mf.verbose = 0\n",
    "mf.run()\n",
    "\n",
    "# Add implicit solvent\n",
    "mf_solvent = solvent.ddCOSMO(mf)\n",
    "mf_solvent.with_solvent.eps = 78.39\n",
    "mf_solvent.verbose = 0\n",
    "mf_solvent.mo_coeff = mf.mo_coeff\n",
    "mf_solvent.run()\n",
    "\n",
    "print(f\"Total energy in vacuum: {mf.e_tot: .3f} Eh\")\n",
    "print(f\"Total energy in solvent: {mf_solvent.e_tot: .3f} Eh\")\n",
    "print(f\"Solvation free energy: {(mf_solvent.e_tot - mf.e_tot) * 627.5: .3f} kcal/mol\")"
   ]
  },
  {
   "cell_type": "markdown",
   "id": "54bb504d-20c5-44c7-9342-5e223a28a09a",
   "metadata": {},
   "source": [
    "The evaluated solvation energy is quite off the mark, considering that the solvation free is estimated to be about -500 kcal/mol (see https://pubs.acs.org/doi/abs/10.1021/acs.jpca.8b06674). \n",
    "\n",
    "### Hybrid solvation model\n",
    "\n",
    "Let's embed the copper-ion in a solvation shell formed by water molecules and compute the solvation free energy using the thermodynamic cycle discussed above. This is considerably more involved calculation, since we need to compute the Hessian for the gas-phase species. \n",
    "\n",
    "How do we obtain a structure for the solvation shell? This is a good question. Some might be found from the literature, at least for a similar ion. An alternative approach would be to construct one using a low-level model, e.g. density functional tight binding (DFTB) or similar approach. Here, we will adopt an artificially small cluster with four water molecules. There are however larger solvation structures available from the literature (see e.g. https://pubs.acs.org/doi/10.1021/jp804373p)."
   ]
  },
  {
   "cell_type": "markdown",
   "id": "9b92bbaf-0c6a-4480-9777-33491ad933e5",
   "metadata": {},
   "source": [
    "### Water cluster structures\n",
    "\n",
    "Consider the two water clusters, with and without a copper-ion, preoptimized using PBE and def2-SVP basis set.\n",
    "\n",
    "<div>\n",
    "<img src=\"clusters.png\" width=\"600\"/>\n",
    "</div>\n",
    "\n",
    "We will use these clusters to calculate the gas-phase reaction for the binding of the copper-ion with the solvent molecules. We will also use them to calculate the solvation energy for each cluster. The solvated structure should be optimized, but we will neglect this step here since the calculations, albeit with a small basis set, are already quite cumbersome to run on a laptop/desktop. "
   ]
  },
  {
   "cell_type": "code",
   "execution_count": 66,
   "id": "129046a6-f732-4cca-a6ab-04947a064cf0",
   "metadata": {
    "tags": []
   },
   "outputs": [],
   "source": [
    "from pyscf.hessian import thermo\n",
    "\n",
    "# First, compute copper with the 'solvation cluster'\n",
    "coords = '''\n",
    "  Cu  0.00770670007957     -0.01075714803486      0.00684346198661\n",
    "  O   1.62629858055350      0.59958796551543     -0.96137824606612\n",
    "  H   2.38274772811028      0.05517739425091     -1.27095980213712\n",
    "  H   1.63486316135084      1.44991263891621     -1.45427267152436\n",
    "  O   -0.08513692098164      1.85563301721865      0.70772230089222\n",
    "  H   -0.92091296008101      2.27895856953297      1.00777628197219\n",
    "  H   0.63973505010478      2.22714364462856      1.26089012590088\n",
    "  O   -0.16307318602147     -1.71475219698127     -1.01669913168950\n",
    "  H   0.12868744546777     -1.79759035478399     -1.95233645651861\n",
    "  H   -0.00508273379089     -2.58677644056665     -0.58749562922375\n",
    "  O   -1.47600452153588     -0.67910102216609      1.13003992630434\n",
    "  H   -1.68821978806555     -0.41530609819069      2.05174002936686\n",
    "  H   -2.28219008519028     -1.07343020933916      0.72891087073636\n",
    "'''\n",
    "\n",
    "temperature = 298.15  # Standard temperature in K\n",
    "pressure = 101325  # Standard pressure in Pa\n",
    "\n",
    "mol_cluster = gto.M(atom=coords, basis='def2-svp', charge=2, spin=1)\n",
    "mf_cluster = scf.UKS(mol_cluster)\n",
    "mf_cluster.xc = 'PBE'\n",
    "mf_cluster.verbose = 0\n",
    "mf_cluster.run()\n",
    "\n",
    "hessian = mf_cluster.Hessian().kernel()\n",
    "# Frequency analysis\n",
    "freq_cluster = thermo.harmonic_analysis(mf_cluster.mol, hessian)\n",
    "thermo_cluster = thermo.thermo(mf_cluster, freq_cluster['freq_au'], temperature, pressure)"
   ]
  },
  {
   "cell_type": "code",
   "execution_count": 67,
   "id": "9c605d6a-af68-4c69-96b6-a19138184dad",
   "metadata": {},
   "outputs": [],
   "source": [
    "# Second, compute just the 'solvation cluster'\n",
    "coords = '''\n",
    "  O   1.59569157211650      0.52671408407826      0.55875125592345\n",
    "  H   1.22572269113165      0.40613430342645     -0.37753454653395\n",
    "  H   1.65562959781890     -0.39080578496591      0.88476545887585\n",
    "  O   -1.80219894908837      1.36621874756072     -0.76471975545405\n",
    "  H   -1.46831586426498      1.39336098953180      0.19232417112175\n",
    "  H   -1.87403013018684      2.30887164269416     -1.00164540312905\n",
    "  O   0.36899920133373      0.20801276276540     -1.77155683816915\n",
    "  H   0.69644080847323      0.81096729919872     -2.46358962449703\n",
    "  O   -0.64414560352736      1.46201234097889      1.62413639246884\n",
    "  H   -0.47158383660499      2.36988722572480      1.93233540537252\n",
    "  H   0.25833209306559      1.14749559670315      1.28200372985479\n",
    "  H   -0.51999897026706      0.60946637230353     -1.49946089583396\n",
    "'''\n",
    "\n",
    "mol_solvent = gto.M(atom=coords, basis='def2-svp', charge=0, spin=0)\n",
    "mf_solvent = scf.UKS(mol_solvent)\n",
    "mf_solvent.xc = 'PBE'\n",
    "mf_solvent.verbose = 0\n",
    "mf_solvent.run()\n",
    "\n",
    "hessian = mf_solvent.Hessian().kernel()\n",
    "# Frequency analysis\n",
    "freq_solvent = thermo.harmonic_analysis(mf_solvent.mol, hessian)\n",
    "thermo_solvent = thermo.thermo(mf_solvent, freq_solvent['freq_au'], temperature, pressure)"
   ]
  },
  {
   "cell_type": "code",
   "execution_count": 68,
   "id": "28fe5b55-c41e-4139-af36-8e85fcc307c6",
   "metadata": {},
   "outputs": [
    {
     "data": {
      "text/plain": [
       "<pyscf.dft.uks.UKS at 0x7fa162f60c50>"
      ]
     },
     "execution_count": 68,
     "metadata": {},
     "output_type": "execute_result"
    }
   ],
   "source": [
    "# Third, compute just the copper ion separately\n",
    "coords = '''\n",
    "  Cu   0.0      0.0      0.0\n",
    "'''\n",
    "\n",
    "mol_cu = gto.M(atom=coords, basis='def2-svp', charge=2, spin=1)\n",
    "mf_cu = scf.UKS(mol_cu)\n",
    "mf_cu.xc = 'PBE'\n",
    "mf_cu.verbose = 0\n",
    "mf_cu.run()"
   ]
  },
  {
   "cell_type": "markdown",
   "id": "ab80cc26-2a53-43f2-ab19-60e796f959fc",
   "metadata": {},
   "source": [
    "For the gas-phase copper-ion, we need to compute the translational entropy using the Sackur-Tetrode equation, \n",
    "$$S_\\text{trans} = R \\left( \\ln \\left( \\frac{kT}{P} \\left( \\frac{2\\pi mkT}{h^2} \\right)^{\\frac{3}{2}} \\right) + \\frac{5}{2} \\right)\n",
    "$$"
   ]
  },
  {
   "cell_type": "code",
   "execution_count": 69,
   "id": "b0508533-86c4-41ee-90fd-b546d90ee5b7",
   "metadata": {},
   "outputs": [],
   "source": [
    "from pyscf.data import nist\n",
    "import numpy as np\n",
    "\n",
    "# Conversion factors from PySCF's NIST database\n",
    "kB = nist.BOLTZMANN\n",
    "h = nist.PLANCK\n",
    "# Gas constant in units of Hartree\n",
    "R_Eh = kB*nist.AVOGADRO / (nist.HARTREE2J * nist.AVOGADRO)\n",
    "# Mass of the atom\n",
    "mass_tot = np.sum(mol_cu.atom_mass_list()) * nist.ATOMIC_MASS\n",
    "# Sackur-Tetrode equation for the translational entropy\n",
    "S_trans = R_Eh * (np.log((2.0 * np.pi * mass * kB * temperature / h**2)**1.5 * kB * temperature / pressure) + 5/2)\n",
    "thermo_cu = mf_cu.e_tot - temperature * S_trans"
   ]
  },
  {
   "cell_type": "code",
   "execution_count": 70,
   "id": "d5e8926b-b57f-4e66-b8e1-4335b1547e30",
   "metadata": {},
   "outputs": [
    {
     "name": "stdout",
     "output_type": "stream",
     "text": [
      "Gibbs free energy for the gas-phase reaction: -299.132 kcal/mol\n"
     ]
    }
   ],
   "source": [
    "dGbind_gas = (thermo_cluster['G_tot'][0] - thermo_solvent['G_tot'][0] - thermo_cu) * 627.5\n",
    "print(f\"Gibbs free energy for the gas-phase reaction: {dGbind_gas: .3f} kcal/mol\")"
   ]
  },
  {
   "cell_type": "markdown",
   "id": "8e95e8b3-4589-4c16-bd84-e1ee0f188bea",
   "metadata": {},
   "source": [
    "The solvation energies are computed from the electronic energies between the gas-phase and solvated molecules."
   ]
  },
  {
   "cell_type": "code",
   "execution_count": 71,
   "id": "279d07a0-1be9-4fda-9f35-1c222962a009",
   "metadata": {},
   "outputs": [
    {
     "name": "stdout",
     "output_type": "stream",
     "text": [
      "Solvations free energies for the cluster: -202.658 kcal/mol\n",
      "Solvations free energies for the solvent: -8.953 kcal/mol\n"
     ]
    }
   ],
   "source": [
    "# Add implicit solvent to cluster and solvent\n",
    "mf_cluster_solvation = solvent.ddCOSMO(mf_cluster)\n",
    "mf_cluster_solvation.with_solvent.eps = 78.39\n",
    "mf_cluster_solvation.verbose = 0\n",
    "mf_cluster_solvation.mo_coeff = mf_cluster.mo_coeff\n",
    "mf_cluster_solvation.run()\n",
    "\n",
    "mf_solvent_solvation = solvent.ddCOSMO(mf_solvent)\n",
    "mf_solvent_solvation.with_solvent.eps = 78.39\n",
    "mf_solvent_solvation.verbose = 0\n",
    "mf_solvent_solvation.mo_coeff = mf_solvent.mo_coeff\n",
    "mf_solvent_solvation.run()\n",
    "\n",
    "dGsolv_cluster = (mf_cluster_solvation.e_tot - mf_cluster.e_tot) * 627.5\n",
    "dGsolv_solvent = (mf_solvent_solvation.e_tot - mf_solvent.e_tot) * 627.5\n",
    "print(f\"Solvations free energies for the cluster: {dGsolv_cluster: .3f} kcal/mol\")\n",
    "print(f\"Solvations free energies for the solvent: {dGsolv_solvent: .3f} kcal/mol\")"
   ]
  },
  {
   "cell_type": "markdown",
   "id": "09d17d2d-ed06-4b13-8c83-5ef171cc18f6",
   "metadata": {},
   "source": [
    "We also need to account for the change in the standard state when going from gas-phase to the solution phase:\n"
   ]
  },
  {
   "cell_type": "code",
   "execution_count": 75,
   "id": "cc227bdf-f899-4186-97c5-1a2d54e757de",
   "metadata": {},
   "outputs": [
    {
     "name": "stdout",
     "output_type": "stream",
     "text": [
      "Solvation free energy of copper(II) in water: -492.836 kcal/mol\n"
     ]
    }
   ],
   "source": [
    "print(f\"Solvation free energy of copper(II) in water: {dGbind_gas + dGsolv_cluster - dGsolv_solvent: .3f} kcal/mol\")"
   ]
  },
  {
   "cell_type": "markdown",
   "id": "e9dfa733-976d-44ab-82ff-74f385fae294",
   "metadata": {},
   "source": [
    "This gets very close to the experimental value, although we have performed only very simple calculations with DFT+GGA, no van der Waals correction and only a small basis set. Using more accurate setup and a larger solvation cluster should improve on this. The convergence of the results with respect to the basis set used and the size of the solvation cluster should be checked."
   ]
  }
 ],
 "metadata": {
  "kernelspec": {
   "display_name": "Python 3 (ipykernel)",
   "language": "python",
   "name": "python3"
  },
  "language_info": {
   "codemirror_mode": {
    "name": "ipython",
    "version": 3
   },
   "file_extension": ".py",
   "mimetype": "text/x-python",
   "name": "python",
   "nbconvert_exporter": "python",
   "pygments_lexer": "ipython3",
   "version": "3.7.12"
  }
 },
 "nbformat": 4,
 "nbformat_minor": 5
}
