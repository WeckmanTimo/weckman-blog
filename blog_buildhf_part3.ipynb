{
 "cells": [
  {
   "cell_type": "markdown",
   "id": "769e1ffa-2c8b-4290-8652-6593a4bd42da",
   "metadata": {},
   "source": [
    "### The Roothan-Hall equations\n",
    "\n",
    "When we expand the orbitals in the Hartree-Fock equations as a linear combination of atomic orbitals (LCAO), we end up with the Roothan-Hall equations:\n",
    "$$\\mathbf{F}\\mathbf{C} = \\mathbf{S}\\mathbf{C}\\mathbf{\\epsilon}$$\n",
    "here \n",
    "* $\\mathbf{C}$ is the matrix of molecular orbital coefficients. Each column corresponds to a molecular orbital, expressed as a linear combination of the basis set functions\n",
    "* $\\mathbf{S}$ is the overlap matrix, each element $S_{\\mu\\nu}$ contains the overlap integrals between the basis functions $\\mu$ and $\\nu$\n",
    "* $\\mathbf{\\epsilon}$ is a diagonal matrix of orbital energies, each element corresponding to the energy of a molecular orbital\n",
    "* $\\mathbf{F}$ is the so-called Fock matrix,\n",
    "$$F_{\\mu\\nu} = H_{\\mu\\nu}^{\\text{core}} + \\sum_{\\lambda\\sigma}D_{\\lambda\\sigma}\\left( 2(\\mu\\nu|\\lambda\\sigma) - (\\mu\\lambda|\\nu\\sigma) \\right)$$\n",
    "where $\\mathbf{D}$ is the so-called density matrix, describing the population of each orbital in the system.\n",
    "\n",
    "The Roothan-Hall equations are for the so-called **restricted Hartree-Fock** system, i.e. we assume an even number of electrons and that all occupied orbitals are populated with a spin up and a spin down electron. The core Hamiltonian consists of the one-electron components, i.e. the kinetic and electron-nucleus interaction terms. The latter term is the two-electron component, consisting of the Coulomb and exchange interaction between the electrons. In order to diagonalize (solve) the Fockian matrix, we need to use an orthogonalization scheme discussed in the previous entry. The orthogonalization matrix transforms us from the atomic orbital (AO) basis into the molecular orbital (MO) basis. \n",
    "\n",
    "However, we cannot solve the Fockian directly, since in order to compute the two-electron part of the Fockian, we would need to have the orbitals at hand already. Therefore, we need to first get an initial guess of the molecular orbitals. We will then solve the Fockian using these guess orbitals and compare whether our new solution matches the guess orbitals. We will then run this solve cycle iteratively until (hopefully) reaching a convergence. This is called **the self consistent cycle (SCF)**.\n",
    "\n",
    "### Molecular integrals and orthogonalization\n",
    "\n",
    "Let's have a look at what the different matrices in our Roothan-Hall equation contain. In the LCAO method, a set of atom-centered basis functions are placed on top the atomic nuclei and all the necessary integrals between the different basis functions are computed. This is done well in advance of the SCF. In the different matrices we have\n",
    "- Overlap $$S_{ij} = \\int \\phi_{i}(\\mathbf{r}) \\phi_{j}(\\mathbf{r}) , d\\mathbf{r}$$\n",
    "- Kinetic energy $$T_{ij} = \\int \\phi_{i}(\\mathbf{r}) \\left( -\\frac{1}{2} \\nabla^2 \\right) \\phi_{j}(\\mathbf{r}) , d\\mathbf{r}$$\n",
    "- Nuclear attraction $$V_{ij} = \\int \\phi_{i}(\\mathbf{r}) \\left( - \\sum_A \\frac{Z_A}{|\\mathbf{r} - \\mathbf{R}A|} \\right) \\phi_{j}(\\mathbf{r}) , d\\mathbf{r}$$\n",
    "- Electron-electron $$V_{ijkl} = (ij|kl) = \\int \\frac{\\phi_{i}(\\mathbf{r}_1) \\phi{j}(\\mathbf{r}_1) \\phi{k}(\\mathbf{r}_2) \\phi_{l}(\\mathbf{r}_2)}{|\\mathbf{r}_1 - \\mathbf{r}_2|} d\\mathbf{r}_1 d\\mathbf{r}_2$$\n",
    "\n",
    "The core Hamiltonian is the sum of the kinetic and electron-nucleus interaction terms, $H_{\\mu\\nu}^{\\text{core}} = T_{\\mu\\nu} + V_{\\mu\\nu}$. \n",
    "\n",
    "Here, we will have a look at how to construct an initial guess for our molecular orbitals. Implementing these integrals can be very cumbersome, especially for orbitals with angular momentum and instead of implemeting them ourselves, we''ll use the PySCF quantum chemistry package to gain all the necessary matrices."
   ]
  },
  {
   "cell_type": "markdown",
   "id": "5f9a29e6-9414-4739-9e44-35b3dd12b335",
   "metadata": {},
   "source": [
    "Let's begin by constructing a PySCF molecule object. We will then extract the molecular integrals for this system using the *intor*-function."
   ]
  },
  {
   "cell_type": "code",
   "execution_count": 50,
   "id": "40d76a5c-9bd7-467a-a3c6-af8c047aeebb",
   "metadata": {},
   "outputs": [
    {
     "name": "stdout",
     "output_type": "stream",
     "text": [
      "(4, 4) (4, 4) (4, 4) (4, 4, 4, 4)\n"
     ]
    }
   ],
   "source": [
    "from pyscf import gto, scf, mp\n",
    "from ase.units import Bohr\n",
    "import numpy as np\n",
    "\n",
    "m = gto.Mole()\n",
    "m.build(atom=f\"H 0 0 0; H {1.4*Bohr} 0 0\", basis=\"3-21g\", spin=0, charge=0)\n",
    "Tmat = m.intor(\"int1e_kin\") # Integral matrix for kinetic energy\n",
    "Smat = m.intor(\"int1e_ovlp\") # Integral matrix for overlap integrals\n",
    "Vmat = m.intor(\"int1e_nuc\") # Integral matrix for electron-nuclei integrals \n",
    "Vee = m.intor(\"int2e\") # Integral matrix for electron-electron integrals\n",
    "nelec = m.nelectron # Number of electrons\n",
    "print(Tmat.shape, Smat.shape, Vmat.shape, Vee.shape)"
   ]
  },
  {
   "cell_type": "markdown",
   "id": "6c6ca515-54e9-4c7d-b90f-275870791977",
   "metadata": {},
   "source": [
    "The first three matrices are $N\\times N$ matrices, while the $\\mathbf{V}_{ee}$ is a $N\\times N\\times N\\times N$ array. The $N$ is the number of basis functions in our system and depends on the basis set we use and what kind of/how many atoms thereare in our system.\n",
    "\n",
    "We will first use the symmetric orthogonalization method to construct a transformation matrix $\\mathbf{X}$ that allows us to switch from the AO basis to the MO basis."
   ]
  },
  {
   "cell_type": "code",
   "execution_count": 51,
   "id": "a40b2298-c0a7-4efa-85ab-fd0a5a1e94e3",
   "metadata": {},
   "outputs": [],
   "source": [
    "# Symmetric orthogonalization\n",
    "s, U = np.linalg.eigh(Smat)\n",
    "X = U / s**0.5"
   ]
  },
  {
   "cell_type": "markdown",
   "id": "d4c2f4ec-1339-4dcc-957b-40807e2f3446",
   "metadata": {},
   "source": [
    "Next, we'll construct the Fock matrix from these components. The one-electron part is simple: we'll just add the kinetic and nucleus parts together. We'll then use the core Hamiltonian as an initial guess for the molecular orbitals, i.e. assuming that there is no interaction between the electrons. This is quite a crude approximation, but will work on our relatively simple system. Diagonalization will result in MO eigenvalues (energies) and vectors."
   ]
  },
  {
   "cell_type": "code",
   "execution_count": 55,
   "id": "5bae07a8-f1f4-4287-b76c-3518381d237a",
   "metadata": {},
   "outputs": [],
   "source": [
    "Hcore_AO = Tmat + Vmat\n",
    "Hcore_MO = np.dot(X.T, Hcore_AO.dot(X)) # Transform from AO to MO basis\n",
    "mo_eigs, mo_vecs = np.linalg.eigh(Hcore_MO) # Diagonalize the Hcore in MO basis"
   ]
  },
  {
   "cell_type": "markdown",
   "id": "298e7be1-1c3b-41dd-9032-a57a3552bad9",
   "metadata": {},
   "source": [
    "In order to construct the two-electron part of the Fockian, we need a density matrix that contains information on how the electron population is distributed among the AOs.\n",
    "For this, we'lll use the molecular orbitals we obtained from the core Hamiltonian initial guess to construct a density matrix, $\\mathbf{D} = \\mathbf{C}^\\dagger \\mathbf{C}$. First, we'll transform the eigenvectors (i.e. MO coefficients) back to AO basis, where we have all our AO integrals. We will only consider the occupied molecular orbitals in our density matrix. The eigenvalues we obtain from the Numpy *eigh*-function are already ordered from the lowest eigenvalue to the highest, so we will just iterate over the first $\\frac{N_\\text{elec}}{2}$ states (this is the **aufbau**-principle)."
   ]
  },
  {
   "cell_type": "code",
   "execution_count": 56,
   "id": "bac1d116-8874-4608-bcc2-054d69291f66",
   "metadata": {},
   "outputs": [],
   "source": [
    "Cvec = np.dot(X, mo_vecs) # Transform the MO coefficients from MO to AO basis\n",
    "Dmat = np.zeros((Smat.shape)) # Initialize the density matrix\n",
    "for a in range(nelec//2): # Compute the density matrix in the AO basis. Since we use restricted HF, all spins are paired and only nelec/2 orbitals are considered\n",
    "    Dmat += np.einsum('i,j->ij', Cvec[:, a], Cvec[:, a].T)"
   ]
  },
  {
   "cell_type": "markdown",
   "id": "fa130f61-a246-4fb3-b67d-8e7759b2d85b",
   "metadata": {},
   "source": [
    "The Numpy function *einsum* is especially useful and powerful tool here. The density matrix is defined as (see Szabo, Ostlund, *Modern quantum chemistry*, eqn 3.145),\n",
    "$$D_{ij} = \\sum\\limits_{a}^{N_\\text{elec}/2} C_{i a} C_{j a}^*$$\n",
    "This is what our einsum calculates.\n",
    "\n",
    "The full Fockian matrix is $$F_{\\mu\\nu} = H_{\\mu\\nu}^{\\text{core}} + \\sum_{\\lambda\\sigma}D_{\\lambda\\sigma}\\left( 2(\\mu\\nu|\\lambda\\sigma) - (\\mu\\lambda|\\nu\\sigma) \\right)$$\n",
    "where the latter part is the two-electron component. This can be rewritten as\n",
    "$$\\sum_{\\lambda\\sigma}D_{\\lambda\\sigma}\\left(2(\\mu\\nu|\\lambda\\sigma) - (\\mu\\lambda|\\nu\\sigma) \\right) = 2{J}_{\\mu\\nu} - {K}_{\\mu\\nu}.$$\n",
    "where $\\mathbf{J}$ and $\\mathbf{K}$ are called the Coulomb and Exchange parts, respectively:\n",
    "$${J}_{\\mu\\nu} = D_{\\lambda\\sigma} \\sum\\limits_{\\lambda\\sigma} (\\mu\\nu|\\lambda\\sigma)$$\n",
    "$${K}_{\\mu\\nu} = D_{\\lambda\\sigma} \\sum\\limits_{\\lambda\\sigma} (\\mu\\lambda|\\nu\\sigma)$$\n",
    "with each integral corresponding to an element in the $\\mathbf{V}_{ee}$ matrix,\n",
    "$$V_{\\mu\\nu\\lambda\\sigma} = (\\mu\\nu|\\lambda\\sigma) = \\int \\int \\phi_\\mu(\\mathbf{r}_1) \\phi_\\nu(\\mathbf{r}_1) \\frac{1}{r_{12}} \\phi_\\lambda(\\mathbf{r}_2) \\phi_\\sigma(\\mathbf{r}_2) \\, d\\mathbf{r}_1 d\\mathbf{r}_2.$$\n",
    "We can again use the *einsum*-function here to construct these matrices."
   ]
  },
  {
   "cell_type": "code",
   "execution_count": 57,
   "id": "1bb0e60b-68f7-4633-8bcf-0f6ef2c3dddf",
   "metadata": {},
   "outputs": [],
   "source": [
    "Jmat = np.einsum('kl, ijkl->ij', Dmat, Vee, optimize=True) # Compute the Coulomb integrals\n",
    "Kmat = np.einsum('kl, ikjl->ij', Dmat, Vee, optimize=True) # Compute the exchange integrals"
   ]
  },
  {
   "cell_type": "markdown",
   "id": "6f3e4317-d646-46bc-b116-17fd9c8077d5",
   "metadata": {},
   "source": [
    "Now we have everything we need to run the SCF cycle! However, we still need to have a look at how we exactly compute the total electronic energy of the system: as it turns out, the total electronic energy of the Hartree-Fock system is **not** the sum of the eigenvalues of the occupied MOs."
   ]
  }
 ],
 "metadata": {
  "kernelspec": {
   "display_name": "Python 3 (ipykernel)",
   "language": "python",
   "name": "python3"
  },
  "language_info": {
   "codemirror_mode": {
    "name": "ipython",
    "version": 3
   },
   "file_extension": ".py",
   "mimetype": "text/x-python",
   "name": "python",
   "nbconvert_exporter": "python",
   "pygments_lexer": "ipython3",
   "version": "3.7.12"
  }
 },
 "nbformat": 4,
 "nbformat_minor": 5
}
