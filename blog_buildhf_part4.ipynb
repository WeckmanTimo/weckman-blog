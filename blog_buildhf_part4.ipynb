{
 "cells": [
  {
   "cell_type": "markdown",
   "id": "08d9db4d-6ae8-4e1c-a4ea-0aedcbc32504",
   "metadata": {},
   "source": [
    "### Self consistent field\n",
    "\n",
    "Now we have everything we need to run the SCF cycle! We'll combine here everything we have built so far to recap.\n",
    "\n",
    "We also need to define some parameters for our SCF loop: a threshold for convergence and the maximum number of iterations, so that our loop has a definite end point. We'll print out the energy and the matrix norm of the difference between the new and old density matrices."
   ]
  },
  {
   "cell_type": "code",
   "execution_count": 47,
   "id": "72d62ecb-9a0d-41be-a4d5-7017779ca7a0",
   "metadata": {},
   "outputs": [],
   "source": [
    "from pyscf import gto, scf, mp\n",
    "from ase.units import Bohr\n",
    "import numpy as np\n",
    "\n",
    "# Define the system in PySCF and get all the molecular integrals\n",
    "m = gto.Mole()\n",
    "m.build(atom=f\"H 0 0 0; H {1.4*Bohr} 0 0\", basis=\"3-21g\", spin=0, charge=0)\n",
    "Tmat = m.intor(\"int1e_kin\") # Integral matrix for kinetic energy\n",
    "Smat = m.intor(\"int1e_ovlp\") # Integral matrix for overlap integrals\n",
    "Vmat = m.intor(\"int1e_nuc\") # Integral matrix for electron-nucleus integrals \n",
    "Vee = m.intor(\"int2e\") # Integral matrix for electron-electron integrals\n",
    "nelec = m.nelectron # Number of electrons"
   ]
  },
  {
   "cell_type": "code",
   "execution_count": 55,
   "id": "19f25785-eb64-4581-9e05-01ecfa6b612f",
   "metadata": {},
   "outputs": [],
   "source": [
    "# Orthogonalization matrix\n",
    "s, U = np.linalg.eigh(Smat)\n",
    "X = U / s**0.5\n",
    "\n",
    "# Core Hamiltonian initial guess\n",
    "Hcore = Tmat + Vmat\n",
    "Hcore_ = np.dot(X.T, Hcore.dot(X)) # Transform from AO to MO basis\n",
    "mo_eigs, mo_vecs = np.linalg.eigh(Hcore_) # Diagonalize the Hcore in MO basis\n",
    "# Construct the density matrix from the initial guess\n",
    "Cvec = np.dot(X, mo_vecs) # Transform the MO coefficients from MO to AO basis\n",
    "Dmat = np.zeros((Smat.shape)) # Initialize the density matrix\n",
    "for a in range(nelec//2): # Compute the density matrix in the AO basis. Since we use restricted HF, all spins are paired and only nelec/2 orbitals are considered\n",
    "    Dmat += np.einsum('i,j->ij', Cvec[:, a], Cvec[:, a].T)"
   ]
  },
  {
   "cell_type": "markdown",
   "id": "fceaf2ab-9d3d-4b2a-ad09-29c1e7aae882",
   "metadata": {},
   "source": [
    "What exactly is the electronic energy, $E_0$, of the Hartree-Fock system? One might think, that since we have $N$ electrons, the total energy would be the sum of the eigenenergies for each electron, $\\sum\\limits_a^N \\epsilon_a$. However, this is not correct: if we just add all the eigenvalues together, we end up counting the electron-electron interactions between the electrons twice (see Szabo and Ostlund, *Modern quantum chemistry* eqns: 3.81-3.82):\n",
    "\n",
    "$$\\sum\\limits_a^N \\epsilon_a = \\sum\\limits_a^N \\left<a\\left|h\\right|a\\right> + \\sum\\limits_a^N \\sum\\limits_b^N \\left[ \\left<aa\\left|\\right.bb\\right> - \\left<ab\\left|\\right.ba\\right>\\right] $$\n",
    "$$E_0 = \\sum\\limits_a^N \\left<a\\left|h\\right|a\\right> + \\frac{1}{2} \\sum\\limits_a^N  \\sum\\limits_b^N \\left[ \\left<aa\\left|\\right.bb\\right> - \\left<ab\\left|\\right.ba\\right>\\right] $$\n",
    "Above, $h$ is the core Hamiltonian and $a$ and $b$ correspond to the occupied orbitals. \n",
    "\n",
    "\n",
    "\n",
    "Let's have a look at the molecular orbitals and their energies. We will be using the Aufbau-principle to populate the molecular orbitals: populate the orbitals from the lowest orbital upwards. Since we are using the Numpy 'eigh', the eigenvalues are already ordered from the lowest eigenvalue to the highest."
   ]
  },
  {
   "cell_type": "code",
   "execution_count": 56,
   "id": "6d000ccc-c13b-4ff4-8bab-5273fec0244d",
   "metadata": {},
   "outputs": [
    {
     "name": "stdout",
     "output_type": "stream",
     "text": [
      " Iteration    Total Energy    Dmat Difference\n",
      "         1   -1.7873257912          1.533e-01\n",
      "         2   -1.8361123242          2.198e-02\n",
      "         3   -1.8371958862          3.175e-03\n",
      "         4   -1.8372185962          4.576e-04\n",
      "         5   -1.8372190684          6.595e-05\n",
      "         6   -1.8372190782          9.502e-06\n",
      "         7   -1.8372190784          1.369e-06\n",
      "         8   -1.8372190784          1.973e-07\n",
      "         9   -1.8372190784          2.843e-08\n",
      "        10   -1.8372190784          4.096e-09\n"
     ]
    }
   ],
   "source": [
    "maxiter = 50\n",
    "conv_tol = 1e-8\n",
    "iterstep = 0\n",
    "conv = 1e0\n",
    "\n",
    "print(f\"{'Iteration':>10} {'Total Energy':>15} {'Dmat Difference':>18}\")\n",
    "while iterstep < maxiter:\n",
    "    # Update the two-electron part\n",
    "    Jmat = np.einsum('kl, ijkl->ij', Dmat, Vee, optimize=True) # Compute the Coulomb integrals\n",
    "    Kmat = np.einsum('kl, ikjl->ij', Dmat, Vee, optimize=True) # Compute the exchange integrals\n",
    "\n",
    "    Fmat = Hcore + 2*Jmat - Kmat # Construct the full Fock matrix\n",
    "    #e_elec = np.trace(np.dot(2*Hcore + 2*Jmat - Kmat, Dmat)) # Compute the electronic energy\n",
    "    e_elec = np.sum(Dmat * (Hcore + Fmat)) # Compute the electronic energy\n",
    "    Dmat_old = Dmat.copy() # Store old density matrix\n",
    "\n",
    "    Fmat_ = np.dot(X.T, Fmat.dot(X)) # Transform the Fockian from the AO to the orthonormal MO basis\n",
    "    mo_eigs, mo_vecs = np.linalg.eigh(Fmat_) # Solve the Fockian\n",
    "    Cvec = np.dot(X, mo_vecs) # Transform the MO coefficients from MO basis to AO basis\n",
    "\n",
    "    # Construct a new density matrix\n",
    "    Dmat *= 0\n",
    "    for a in range(nelec//2):\n",
    "        Dmat += np.einsum('i,j->ij', Cvec[:, a], Cvec[:, a].T)\n",
    "        \n",
    "    conv = np.linalg.norm(Dmat-Dmat_old) # Evaluate difference in the density matrices\n",
    "    iterstep += 1\n",
    "    print(f\"{iterstep:>10} {e_elec:>15.10f} {conv:>18.3e}\") # Print out energy\n",
    "    if conv < conv_tol: # Check convergence. If converged, end cycle\n",
    "        break "
   ]
  },
  {
   "cell_type": "markdown",
   "id": "00fdfde1-5525-4ec1-b1a8-52e5660befcc",
   "metadata": {},
   "source": [
    "Next, we'll construct the density matrix for our initial guess from the molecular orbitals."
   ]
  }
 ],
 "metadata": {
  "kernelspec": {
   "display_name": "Python 3 (ipykernel)",
   "language": "python",
   "name": "python3"
  },
  "language_info": {
   "codemirror_mode": {
    "name": "ipython",
    "version": 3
   },
   "file_extension": ".py",
   "mimetype": "text/x-python",
   "name": "python",
   "nbconvert_exporter": "python",
   "pygments_lexer": "ipython3",
   "version": "3.7.12"
  }
 },
 "nbformat": 4,
 "nbformat_minor": 5
}
