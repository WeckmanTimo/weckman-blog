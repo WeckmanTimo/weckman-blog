{
 "cells": [
  {
   "cell_type": "markdown",
   "id": "08d9db4d-6ae8-4e1c-a4ea-0aedcbc32504",
   "metadata": {},
   "source": [
    "### Self consistent field\n",
    "\n",
    "Now we have everything we need to run the SCF cycle! We'll combine here everything we have built so far to recap.\n",
    "\n",
    "We also need to define some parameters for our SCF loop: a threshold for convergence and the maximum number of iterations, so that our loop has a definite end point. We'll print out the energy and the matrix norm of the difference between the new and old density matrices."
   ]
  },
  {
   "cell_type": "code",
   "execution_count": 27,
   "id": "72d62ecb-9a0d-41be-a4d5-7017779ca7a0",
   "metadata": {},
   "outputs": [],
   "source": [
    "from pyscf import gto, scf, mp\n",
    "from ase.units import Bohr\n",
    "import numpy as np\n",
    "\n",
    "# Define the system in PySCF and get all the molecular integrals\n",
    "m = gto.Mole()\n",
    "m.build(atom=f\"H 0 0 0; H {1.4*Bohr} 0 0\", basis=\"3-21g\", spin=0, charge=0)\n",
    "Tmat = m.intor(\"int1e_kin\") # Integral matrix for kinetic energy\n",
    "Smat = m.intor(\"int1e_ovlp\") # Integral matrix for overlap integrals\n",
    "Vmat = m.intor(\"int1e_nuc\") # Integral matrix for electron-nucleus integrals \n",
    "Vee = m.intor(\"int2e\") # Integral matrix for electron-electron integrals\n",
    "nelec = m.nelectron # Number of electrons"
   ]
  },
  {
   "cell_type": "code",
   "execution_count": 28,
   "id": "19f25785-eb64-4581-9e05-01ecfa6b612f",
   "metadata": {},
   "outputs": [],
   "source": [
    "# Orthogonalization matrix\n",
    "s, U = np.linalg.eigh(Smat)\n",
    "X = U / s**0.5\n",
    "\n",
    "# Core Hamiltonian initial guess\n",
    "Hcore = Tmat + Vmat\n",
    "Hcore_ = np.dot(X.T, Hcore.dot(X)) # Transform from AO to MO basis\n",
    "mo_eigs, mo_vecs = np.linalg.eigh(Hcore_) # Diagonalize the Hcore in MO basis\n",
    "# Construct the density matrix from the initial guess\n",
    "Cvec = np.dot(X, mo_vecs) # Transform the MO coefficients from MO to AO basis\n",
    "Dmat = np.zeros((Smat.shape)) # Initialize the density matrix\n",
    "for a in range(nelec//2): # Compute the density matrix in the AO basis. Since we use restricted HF, all spins are paired and only nelec/2 orbitals are considered\n",
    "    Dmat += np.einsum('i,j->ij', Cvec[:, a], Cvec[:, a].T)"
   ]
  },
  {
   "cell_type": "markdown",
   "id": "fceaf2ab-9d3d-4b2a-ad09-29c1e7aae882",
   "metadata": {},
   "source": [
    "What exactly is the electronic energy, $E_0$, of the Hartree-Fock system? One might think, that since we have $N$ electrons, the total energy would be the sum of the eigenenergies for each electron, $\\sum\\limits_a^N \\epsilon_a$. However, this is not correct: if we just add all the eigenvalues together, we end up counting the electron-electron interactions between the electrons twice (see Szabo and Ostlund, *Modern quantum chemistry* eqns: 3.81-3.82):\n",
    "\n",
    "$$\\sum\\limits_a^N \\epsilon_a = \\sum\\limits_a^N \\left<a\\left|h\\right|a\\right> + \\sum\\limits_a^N \\sum\\limits_b^N \\left[ \\left<aa\\left|\\right.bb\\right> - \\left<ab\\left|\\right.ba\\right>\\right] $$\n",
    "$$E_0 = \\sum\\limits_a^N \\left<a\\left|h\\right|a\\right> \\sum\\limits_a^N + \\frac{1}{2} \\sum\\limits_b^N \\left[ \\left<aa\\left|\\right.bb\\right> - \\left<ab\\left|\\right.ba\\right>\\right] $$\n",
    "Above, $h$ is the core Hamiltonian and $a$ and $b$ correspond to the occupied orbitals. \n",
    "\n",
    "\n",
    "\n",
    "Let's have a look at the molecular orbitals and their energies. We will be using the Aufbau-principle to populate the molecular orbitals: populate the orbitals from the lowest orbital upwards. Since we are using the Numpy 'eigh', the eigenvalues are already ordered from the lowest eigenvalue to the highest."
   ]
  },
  {
   "cell_type": "code",
   "execution_count": 36,
   "id": "6d000ccc-c13b-4ff4-8bab-5273fec0244d",
   "metadata": {},
   "outputs": [
    {
     "name": "stdout",
     "output_type": "stream",
     "text": [
      " Iteration    Total Energy    Dmat Difference\n",
      "         1     -1.83721908          2.541e-13\n"
     ]
    }
   ],
   "source": [
    "maxiter = 50\n",
    "conv_tol = 1e-6\n",
    "iterstep = 0\n",
    "conv = 1e0\n",
    "\n",
    "print(f\"{'Iteration':>10} {'Total Energy':>15} {'Dmat Difference':>18}\")\n",
    "while iterstep < maxiter:\n",
    "    # Update the two-electron part\n",
    "    Jmat = np.einsum('kl, ijkl->ij', Dmat, Vee, optimize=True) # Compute the Coulomb integrals\n",
    "    Kmat = np.einsum('kl, ikjl->ij', Dmat, Vee, optimize=True) # Compute the exchange integrals\n",
    "\n",
    "    Fmat = Hcore + 2*Jmat - Kmat # Construct the full Fock matrix\n",
    "    #e_elec = np.trace(np.dot(2*Hcore + 2*Jmat - Kmat, Dmat)) # Compute the electronic energy\n",
    "    e_elec = np.sum(Dmat * (Hcore + Fmat)) # Compute the electronic energy\n",
    "    Dmat_old = Dmat.copy() # Store old density matrix\n",
    "\n",
    "    Fmat_ = np.dot(X.T, Fmat.dot(X)) # Transform the Fockian from the AO to the orthonormal MO basis\n",
    "    mo_eigs, mo_vecs = np.linalg.eigh(Fmat_) # Solve the Fockian\n",
    "    Cvec = np.dot(X, mo_vecs) # Transform the MO coefficients from MO basis to AO basis\n",
    "\n",
    "    # Construct a new density matrix\n",
    "    Dmat *= 0\n",
    "    for a in range(nelec//2):\n",
    "        Dmat += np.einsum('i,j->ij', Cvec[:, a], Cvec[:, a].T)\n",
    "        \n",
    "    conv = np.linalg.norm(Dmat-Dmat_old) # Evaluate difference in the density matrices\n",
    "    iterstep += 1\n",
    "    print(f\"{iterstep:>10} {e_elec:>15.8f} {conv:>18.3e}\") # Print out energy\n",
    "    if conv < conv_tol: # Check convergence. If converged, end cycle\n",
    "        break "
   ]
  },
  {
   "cell_type": "markdown",
   "id": "00fdfde1-5525-4ec1-b1a8-52e5660befcc",
   "metadata": {},
   "source": [
    "Next, we'll construct the density matrix for our initial guess from the molecular orbitals."
   ]
  },
  {
   "cell_type": "code",
   "execution_count": 5,
   "id": "277e75dd-8dd7-4f19-99ad-b7da68cc9cb0",
   "metadata": {},
   "outputs": [
    {
     "name": "stdout",
     "output_type": "stream",
     "text": [
      "[[ 0.15723247 -0.13639791 -0.29254299 -0.40557068]\n",
      " [ 0.08583208 -0.07445864 -0.15969713 -0.22139813]\n",
      " [ 0.15723247 -0.13639791 -0.29254299 -0.40557068]\n",
      " [ 0.08583208 -0.07445864 -0.15969713 -0.22139813]]\n"
     ]
    }
   ],
   "source": [
    "Cvec = np.dot(X, mo_vecs) # Transform the MO coefficients from MO to AO basis\n",
    "Dmat = np.zeros((Smat.shape)) # Initialize the density matrix\n",
    "for i in range(nelec//2): # Compute the density matrix in the AO basis. Since we use restricted HF, all spins are paired and only nelec/2 orbitals are considered\n",
    "    Dmat += np.einsum('i,j->ij', Cvec[:, i], Cvec[i, :])\n",
    "print(Dmat)"
   ]
  },
  {
   "cell_type": "code",
   "execution_count": 6,
   "id": "be609602-f0c6-4afd-a638-32d6caaeb913",
   "metadata": {},
   "outputs": [
    {
     "name": "stdout",
     "output_type": "stream",
     "text": [
      "[[ 4.75784716e-32 -1.14270858e-16  2.89880752e-32  1.85797316e-16]\n",
      " [ 3.55930763e-17 -8.54851201e-02  2.16857485e-17  1.38993495e-01]\n",
      " [ 6.65960034e-32 -1.59945921e-16  4.05748627e-32  2.60062131e-16]\n",
      " [-2.15201312e-16  5.16856420e-01 -1.31115431e-16 -8.40376430e-01]]\n",
      "[[-6.56006633 -0.50289987 -0.90590507 -0.25163934]\n",
      " [-1.51092592 -0.11582878 -0.20864964 -0.05795801]\n",
      " [-0.90590507 -0.0694474  -0.12509995 -0.03474986]\n",
      " [-0.75603202 -0.05795801 -0.1044034  -0.02900083]]\n",
      "[[ 9.24990970e+00  1.11022302e-15 -7.77156117e-16 -1.11022302e-16]\n",
      " [ 1.11022302e-15  2.11432470e+00  3.88578059e-16  5.55111512e-17]\n",
      " [-7.77156117e-16  3.88578059e-16  1.53210291e+00 -2.77555756e-17]\n",
      " [-1.11022302e-16  5.55111512e-17 -2.77555756e-17  3.61502982e-01]]\n"
     ]
    }
   ],
   "source": [
    "Dmat = np.zeros((Smat.shape)) # Initialize the density matrix\n",
    "for i in range(nelec//2): # Compute the density matrix in the AO basis. Since we use restricted HF, all spins are paired and only nelec/2 orbitals are considered\n",
    "    Dmat += np.einsum('i,j->ij', mo_vecs[:, i], mo_vecs[i, :])\n",
    "print(Dmat)\n",
    "#Dmat = np.einsum('ij,ij,ij->ij', X, X.T, Dmat)\n",
    "Dmat = np.dot(X.T, np.dot(Dmat, X))\n",
    "print(Dmat)\n",
    "print(np.dot(X.T, X))"
   ]
  },
  {
   "cell_type": "code",
   "execution_count": 7,
   "id": "73b4cb37-71f0-4b82-8987-1ecef4b2fb79",
   "metadata": {},
   "outputs": [
    {
     "name": "stdout",
     "output_type": "stream",
     "text": [
      "[[-6.56006633 -0.50289987 -0.90590507 -0.25163934]\n",
      " [-1.51092592 -0.11582878 -0.20864964 -0.05795801]\n",
      " [-0.90590507 -0.0694474  -0.12509995 -0.03474986]\n",
      " [-0.75603202 -0.05795801 -0.1044034  -0.02900083]]\n",
      "[[0.09358153 0.09121793 0.09358153 0.09121793]\n",
      " [0.09121793 0.08891402 0.09121793 0.08891402]\n",
      " [0.09358153 0.09121793 0.09358153 0.09121793]\n",
      " [0.09121793 0.08891402 0.09121793 0.08891402]]\n"
     ]
    }
   ],
   "source": [
    "hf = m.RHF()\n",
    "hf.verbose = 0\n",
    "hf.max_cycle = -1\n",
    "hf.init_guess = 'hcore'\n",
    "hf.run()\n",
    "print(Dmat)\n",
    "print(hf.make_rdm1()/nelec)"
   ]
  },
  {
   "cell_type": "code",
   "execution_count": 12,
   "id": "6a303e22-121a-40e3-8391-6d016895ca28",
   "metadata": {},
   "outputs": [
    {
     "name": "stdout",
     "output_type": "stream",
     "text": [
      "[[0.15723247 0.08583208 0.15723247 0.08583208]\n",
      " [0.08583208 0.04685512 0.08583208 0.04685512]\n",
      " [0.15723247 0.08583208 0.15723247 0.08583208]\n",
      " [0.08583208 0.04685512 0.08583208 0.04685512]]\n",
      " Iteration    Total Energy    Dmat Difference\n",
      "         1     -1.78732579          1.533e-01\n",
      "         2     -1.83611232          2.198e-02\n",
      "         3     -1.83719589          3.175e-03\n",
      "         4     -1.83721860          4.576e-04\n",
      "         5     -1.83721907          6.595e-05\n",
      "         6     -1.83721908          9.502e-06\n",
      "         7     -1.83721908          1.369e-06\n",
      "         8     -1.83721908          1.973e-07\n"
     ]
    }
   ],
   "source": [
    "maxiter = 50\n",
    "conv_tol = 1e-6\n",
    "iterstep = 0\n",
    "conv = 1e0\n",
    "\n",
    "\n",
    "Hcore = Tmat + Vmat\n",
    "# Transform to orthonormal MO basis\n",
    "Hcore_ = np.dot(X.T, Hcore.dot(X))\n",
    "mo_eigs, mo_vecs = np.linalg.eigh(Hcore_)\n",
    "Dmat = np.zeros((Smat.shape)) # Initialize the density matrix\n",
    "Cvec = np.dot(X, mo_vecs)\n",
    "for i in range(nelec//2): # Compute the density matrix. Since we use restricted HF, all spins are pair and only nelec/2 orbitals are considered\n",
    "    Dmat += np.einsum('i,j->ij', Cvec[:, i], Cvec[:, i].T)\n",
    "print(Dmat)\n",
    "    \n",
    "print(f\"{'Iteration':>10} {'Total Energy':>15} {'Dmat Difference':>18}\")\n",
    "while iterstep < maxiter:\n",
    "    Jmat = np.einsum('kl, ijkl->ij', Dmat, Vee, optimize=True) # Compute the Coulomb integrals\n",
    "    #Kmat = np.einsum('kl, ilkj->ij', Dmat, Vee, optimize=True) # Compute the exchange integrals\n",
    "    Kmat = np.einsum('kl, ikjl->ij', Dmat, Vee, optimize=True) # Compute the exchange integrals\n",
    "        \n",
    "    Fmat = Hcore + 2*Jmat - Kmat # Construct the full Fock matrix\n",
    "    e_elec = np.trace(np.dot(2*Hcore + 2*Jmat - Kmat, Dmat))\n",
    "    # Transform to orthonormal MO basis\n",
    "    Fmat_ = np.dot(X.T, Fmat.dot(X))\n",
    "    Dmat_old = Dmat.copy() # Store old density matrix\n",
    "        \n",
    "    mo_eigs, mo_vecs = np.linalg.eigh(Fmat_)\n",
    "    Cvec = np.dot(X, mo_vecs)\n",
    "\n",
    "    Dmat *= 0\n",
    "    for i in range(nelec//2): # RHF\n",
    "        Dmat += np.einsum('i,j->ij', Cvec[:, i], Cvec[:, i].T)\n",
    "    conv = np.linalg.norm(Dmat-Dmat_old)\n",
    "    iterstep += 1\n",
    "    print(f\"{iterstep:>10} {e_elec:>15.8f} {conv:>18.3e}\")\n",
    "    if conv < conv_tol:\n",
    "        break"
   ]
  },
  {
   "cell_type": "code",
   "execution_count": null,
   "id": "b5756f08-a48a-4382-b333-a9a8cf0d7085",
   "metadata": {},
   "outputs": [],
   "source": []
  },
  {
   "cell_type": "code",
   "execution_count": null,
   "id": "93e72a7b-b913-421d-8e5c-eed0464d8934",
   "metadata": {},
   "outputs": [],
   "source": []
  },
  {
   "cell_type": "code",
   "execution_count": null,
   "id": "f86f9cc6-b9ef-47e0-8f49-cd70d9dcbd28",
   "metadata": {},
   "outputs": [],
   "source": []
  }
 ],
 "metadata": {
  "kernelspec": {
   "display_name": "Python 3 (ipykernel)",
   "language": "python",
   "name": "python3"
  },
  "language_info": {
   "codemirror_mode": {
    "name": "ipython",
    "version": 3
   },
   "file_extension": ".py",
   "mimetype": "text/x-python",
   "name": "python",
   "nbconvert_exporter": "python",
   "pygments_lexer": "ipython3",
   "version": "3.7.12"
  }
 },
 "nbformat": 4,
 "nbformat_minor": 5
}
